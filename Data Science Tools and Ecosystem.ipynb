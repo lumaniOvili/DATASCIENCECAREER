{
 "cells": [
  {
   "cell_type": "markdown",
   "id": "44086e3b-649f-48d9-a7b8-f3875d48eb4a",
   "metadata": {},
   "source": [
    "# Data Science Tools and Ecosystem"
   ]
  },
  {
   "cell_type": "markdown",
   "id": "d047e52b-935a-4b7f-8e7a-67552538bf4b",
   "metadata": {},
   "source": [
    "In this notebook, Data Science Tools and Ecosystem are summarized."
   ]
  },
  {
   "cell_type": "markdown",
   "id": "297a53e3-0257-480b-9c83-44c6f872865b",
   "metadata": {},
   "source": [
    "Some of the popular languages that Data Scientists use are:"
   ]
  },
  {
   "cell_type": "markdown",
   "id": "94ac60b5-cca3-4313-a792-d75202dc71a6",
   "metadata": {},
   "source": [
    "1. R\n",
    "2. Python\n",
    "3. SQL"
   ]
  },
  {
   "cell_type": "markdown",
   "id": "7db25554-0cdf-4a13-8c1f-f9e5bfabdabc",
   "metadata": {},
   "source": [
    "Some of the commonly used libraries used by Data Scientists include:"
   ]
  },
  {
   "cell_type": "markdown",
   "id": "9b5e0980-3be1-4eb3-9283-6ef31afe3c40",
   "metadata": {},
   "source": [
    "1. Seaborn\n",
    "2. Scikit-learn\n",
    "3. Matplot-lib"
   ]
  },
  {
   "cell_type": "markdown",
   "id": "f557f8df-13b5-4b5a-a50c-face696efcde",
   "metadata": {},
   "source": [
    "|Data Science Tools|\n",
    "--------------------\n",
    "|Jupyter Notebook|\n",
    "|RStudio|\n",
    "|Visual Studio|"
   ]
  },
  {
   "cell_type": "markdown",
   "id": "8725042e-57ca-4208-a10f-3d496f8f74cb",
   "metadata": {},
   "source": [
    "### Below are a few examples of evaluating arithmetic expressions in Python"
   ]
  },
  {
   "cell_type": "code",
   "execution_count": null,
   "id": "51e9762a-3753-4c25-a672-52e3eec85ad9",
   "metadata": {
    "tags": []
   },
   "outputs": [],
   "source": [
    "# This a simple arithmetic expression to mutiply then add integers"
   ]
  },
  {
   "cell_type": "code",
   "execution_count": 1,
   "id": "d43b4dc8-9bac-4ea6-9dc0-073269c77ace",
   "metadata": {
    "tags": []
   },
   "outputs": [
    {
     "data": {
      "text/plain": [
       "17"
      ]
     },
     "execution_count": 1,
     "metadata": {},
     "output_type": "execute_result"
    }
   ],
   "source": [
    "(3*4)+5"
   ]
  },
  {
   "cell_type": "code",
   "execution_count": 2,
   "id": "a2d54f2c-c510-4124-86e3-9cb6cb2e379f",
   "metadata": {},
   "outputs": [],
   "source": [
    "# This will convert 200 minutes to hours by diving by 60"
   ]
  },
  {
   "cell_type": "code",
   "execution_count": 3,
   "id": "dae5b4af-2d4e-4c74-b300-f05b2df999bc",
   "metadata": {
    "tags": []
   },
   "outputs": [
    {
     "data": {
      "text/plain": [
       "3.3333333333333335"
      ]
     },
     "execution_count": 3,
     "metadata": {},
     "output_type": "execute_result"
    }
   ],
   "source": [
    "minutes = 200\n",
    "hours = minutes / 60\n",
    "hours"
   ]
  },
  {
   "cell_type": "markdown",
   "id": "bacad8af-8f07-47db-82b6-b0368933373a",
   "metadata": {
    "tags": []
   },
   "source": [
    "**Objectives**"
   ]
  },
  {
   "cell_type": "markdown",
   "id": "aff9708c-6697-4235-afb6-f10dadc25ee3",
   "metadata": {},
   "source": [
    "+ Identify the criteria and roles for determining the language to learn.\n",
    "+ Identify the users and benefits of Python.\n",
    "+ Identify the users and benefits of R language.\n",
    "+ Define SQL elements and list its benefits.\n",
    "+ Review languages such as Java, Scala, C++, JavaScript, and Julia.\n",
    "+ List the global communities for connecting with other users."
   ]
  },
  {
   "cell_type": "markdown",
   "id": "0cd9ed3f-339b-4f05-af33-c029b242f500",
   "metadata": {},
   "source": [
    "## Author "
   ]
  },
  {
   "cell_type": "markdown",
   "id": "192eb39d-e017-4981-9b8e-2061b4cfff31",
   "metadata": {},
   "source": [
    "Ifeakachukwu Ovili"
   ]
  },
  {
   "cell_type": "code",
   "execution_count": null,
   "id": "dc4140f7-893a-4bfc-ad69-631b962267e2",
   "metadata": {},
   "outputs": [],
   "source": []
  }
 ],
 "metadata": {
  "kernelspec": {
   "display_name": "Python",
   "language": "python",
   "name": "conda-env-python-py"
  },
  "language_info": {
   "codemirror_mode": {
    "name": "ipython",
    "version": 3
   },
   "file_extension": ".py",
   "mimetype": "text/x-python",
   "name": "python",
   "nbconvert_exporter": "python",
   "pygments_lexer": "ipython3",
   "version": "3.7.12"
  }
 },
 "nbformat": 4,
 "nbformat_minor": 5
}
